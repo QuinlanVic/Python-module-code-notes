{
 "cells": [
  {
   "cell_type": "code",
   "execution_count": null,
   "metadata": {},
   "outputs": [],
   "source": []
  },
  {
   "cell_type": "markdown",
   "metadata": {},
   "source": [
    "## Data analyst\n",
    "\n",
    "- SQL\n",
    "- One shot Query\n",
    "- Programmers - MNC (Maths And Computing)\n",
    "- Power BI - Charts\n",
    "\n",
    "Data Scientist\n",
    "\n",
    "- Excel\n",
    "- Line by line (Step)\n",
    "- Python - numpy, pandas\n",
    "    - Scales well and are open-source\n",
    "- Scikit - Data prediction\n",
    "- Matplot, seaborn - Charts"
   ]
  },
  {
   "cell_type": "code",
   "execution_count": 2,
   "metadata": {},
   "outputs": [
    {
     "name": "stdout",
     "output_type": "stream",
     "text": [
      "Requirement already satisfied: numpy in c:\\users\\e1005288\\onedrive - sanlam life insurance limited\\documents\\python module\\projects\\python-module-code-notes\\myenv\\lib\\site-packages (1.26.4)\n",
      "Note: you may need to restart the kernel to use updated packages.\n"
     ]
    },
    {
     "name": "stderr",
     "output_type": "stream",
     "text": [
      "\n",
      "[notice] A new release of pip available: 22.2.2 -> 24.0\n",
      "[notice] To update, run: python.exe -m pip install --upgrade pip\n"
     ]
    }
   ],
   "source": [
    "%pip install numpy"
   ]
  },
  {
   "cell_type": "markdown",
   "metadata": {},
   "source": [
    "## Numpy\n",
    "- Work with Arrays\n",
    "- Performant\n",
    "- C language (faster)- Statisically oriented (mean, mode, std)"
   ]
  },
  {
   "cell_type": "code",
   "execution_count": 3,
   "metadata": {},
   "outputs": [],
   "source": [
    "import numpy as np"
   ]
  },
  {
   "cell_type": "markdown",
   "metadata": {},
   "source": [
    "## Shortcuts\n",
    "- `ctrl+alt+enter` -> Run the cell\n",
    "- `shift + enter` -> Move to next cell"
   ]
  },
  {
   "cell_type": "code",
   "execution_count": 4,
   "metadata": {},
   "outputs": [
    {
     "name": "stdout",
     "output_type": "stream",
     "text": [
      "[180 160  40  80]\n",
      "[180, 160, 40, 80]\n"
     ]
    },
    {
     "data": {
      "text/plain": [
       "[90, 80, 20, 40, 90, 80, 20, 40]"
      ]
     },
     "execution_count": 4,
     "metadata": {},
     "output_type": "execute_result"
    }
   ],
   "source": [
    "marks = np.array([90, 80, 20, 40])\n",
    "print(marks * 2)\n",
    "marks_list = [90, 80, 20, 40]\n",
    "marks_list_dbl = [num * 2 for num in marks_list]\n",
    "print(marks_list_dbl)\n",
    "marks_list* 2\n"
   ]
  },
  {
   "cell_type": "code",
   "execution_count": 5,
   "metadata": {},
   "outputs": [
    {
     "data": {
      "text/plain": [
       "array([0., 0., 0., 0., 0., 0., 0., 0., 0., 0., 0., 0., 0., 0., 0., 0., 0.,\n",
       "       0., 0., 0., 0., 0., 0., 0., 0., 0., 0., 0., 0., 0., 0., 0., 0., 0.,\n",
       "       0., 0., 0., 0., 0., 0., 0., 0., 0., 0., 0., 0., 0., 0., 0., 0., 0.,\n",
       "       0., 0., 0., 0., 0., 0., 0., 0., 0., 0., 0., 0., 0., 0., 0., 0., 0.,\n",
       "       0., 0., 0., 0., 0., 0., 0., 0., 0., 0., 0., 0., 0., 0., 0., 0., 0.,\n",
       "       0., 0., 0., 0., 0.])"
      ]
     },
     "execution_count": 5,
     "metadata": {},
     "output_type": "execute_result"
    }
   ],
   "source": [
    "np.ones(200) # Identity matrix\n",
    "np.zeros(90)"
   ]
  },
  {
   "cell_type": "code",
   "execution_count": 6,
   "metadata": {},
   "outputs": [
    {
     "data": {
      "text/plain": [
       "array([1, 3, 5, 7, 9])"
      ]
     },
     "execution_count": 6,
     "metadata": {},
     "output_type": "execute_result"
    }
   ],
   "source": [
    "np.arange(10) # 0-9\n",
    "np.arange(1, 10) # 1-9\n",
    "np.arange(1, 10, 2) # 1, 3, 5, 7, 9"
   ]
  },
  {
   "cell_type": "code",
   "execution_count": 7,
   "metadata": {},
   "outputs": [
    {
     "data": {
      "text/plain": [
       "array([False, False, False, False, False, False,  True,  True,  True,\n",
       "        True])"
      ]
     },
     "execution_count": 7,
     "metadata": {},
     "output_type": "execute_result"
    }
   ],
   "source": [
    "np.arange(10) > 5 # apply condition on each value 1-9"
   ]
  },
  {
   "cell_type": "markdown",
   "metadata": {},
   "source": [
    "## Operations\n",
    "- Multiple, Division, Addition, Subtraction\n",
    "- Boolean matrix by applying conditionals\n",
    "- Filter matrix using boolean matrix"
   ]
  },
  {
   "cell_type": "code",
   "execution_count": 8,
   "metadata": {},
   "outputs": [
    {
     "data": {
      "text/plain": [
       "array([ 0,  2,  4,  6,  8, 10, 12, 14, 16, 18])"
      ]
     },
     "execution_count": 8,
     "metadata": {},
     "output_type": "execute_result"
    }
   ],
   "source": [
    "np.arange(10) * 2 # multiply each value 1-9\n",
    "# np.arange(10) + 2\n",
    "# np.arange(10) / 2\n",
    "# np.arange(10) - 2"
   ]
  },
  {
   "cell_type": "code",
   "execution_count": 9,
   "metadata": {},
   "outputs": [
    {
     "name": "stdout",
     "output_type": "stream",
     "text": [
      "[ 6  7  8  9 10]\n"
     ]
    },
    {
     "data": {
      "text/plain": [
       "array([ 1,  2,  3,  4,  5,  6,  7,  8,  9, 10])"
      ]
     },
     "execution_count": 9,
     "metadata": {},
     "output_type": "execute_result"
    }
   ],
   "source": [
    "first_ten_nums = np.arange(1, 11)\n",
    "all_gt_five = first_ten_nums  > 5\n",
    "# filters and gives a new list\n",
    "print(first_ten_nums[all_gt_five])\n",
    "# original list is unchanged\n",
    "first_ten_nums"
   ]
  },
  {
   "cell_type": "markdown",
   "metadata": {},
   "source": [
    "## Task\n",
    "Create a 1..200 numbers and provide a numpy array with all even numbers"
   ]
  },
  {
   "cell_type": "code",
   "execution_count": 10,
   "metadata": {},
   "outputs": [
    {
     "data": {
      "text/plain": [
       "array([  0,   2,   4,   6,   8,  10,  12,  14,  16,  18,  20,  22,  24,\n",
       "        26,  28,  30,  32,  34,  36,  38,  40,  42,  44,  46,  48,  50,\n",
       "        52,  54,  56,  58,  60,  62,  64,  66,  68,  70,  72,  74,  76,\n",
       "        78,  80,  82,  84,  86,  88,  90,  92,  94,  96,  98, 100, 102,\n",
       "       104, 106, 108, 110, 112, 114, 116, 118, 120, 122, 124, 126, 128,\n",
       "       130, 132, 134, 136, 138, 140, 142, 144, 146, 148, 150, 152, 154,\n",
       "       156, 158, 160, 162, 164, 166, 168, 170, 172, 174, 176, 178, 180,\n",
       "       182, 184, 186, 188, 190, 192, 194, 196, 198, 200])"
      ]
     },
     "execution_count": 10,
     "metadata": {},
     "output_type": "execute_result"
    }
   ],
   "source": [
    "nums200 = np.arange(0, 201, 2) \n",
    "nums200"
   ]
  },
  {
   "cell_type": "markdown",
   "metadata": {},
   "source": [
    "## Task 2 \n",
    "Without the skip/step of arange"
   ]
  },
  {
   "cell_type": "code",
   "execution_count": 11,
   "metadata": {},
   "outputs": [
    {
     "name": "stdout",
     "output_type": "stream",
     "text": [
      "[  2   4   6   8  10  12  14  16  18  20  22  24  26  28  30  32  34  36\n",
      "  38  40  42  44  46  48  50  52  54  56  58  60  62  64  66  68  70  72\n",
      "  74  76  78  80  82  84  86  88  90  92  94  96  98 100 102 104 106 108\n",
      " 110 112 114 116 118 120 122 124 126 128 130 132 134 136 138 140 142 144\n",
      " 146 148 150 152 154 156 158 160 162 164 166 168 170 172 174 176 178 180\n",
      " 182 184 186 188 190 192 194 196 198 200]\n"
     ]
    },
    {
     "data": {
      "text/plain": [
       "array([  1,   2,   3,   4,   5,   6,   7,   8,   9,  10,  11,  12,  13,\n",
       "        14,  15,  16,  17,  18,  19,  20,  21,  22,  23,  24,  25,  26,\n",
       "        27,  28,  29,  30,  31,  32,  33,  34,  35,  36,  37,  38,  39,\n",
       "        40,  41,  42,  43,  44,  45,  46,  47,  48,  49,  50,  51,  52,\n",
       "        53,  54,  55,  56,  57,  58,  59,  60,  61,  62,  63,  64,  65,\n",
       "        66,  67,  68,  69,  70,  71,  72,  73,  74,  75,  76,  77,  78,\n",
       "        79,  80,  81,  82,  83,  84,  85,  86,  87,  88,  89,  90,  91,\n",
       "        92,  93,  94,  95,  96,  97,  98,  99, 100, 101, 102, 103, 104,\n",
       "       105, 106, 107, 108, 109, 110, 111, 112, 113, 114, 115, 116, 117,\n",
       "       118, 119, 120, 121, 122, 123, 124, 125, 126, 127, 128, 129, 130,\n",
       "       131, 132, 133, 134, 135, 136, 137, 138, 139, 140, 141, 142, 143,\n",
       "       144, 145, 146, 147, 148, 149, 150, 151, 152, 153, 154, 155, 156,\n",
       "       157, 158, 159, 160, 161, 162, 163, 164, 165, 166, 167, 168, 169,\n",
       "       170, 171, 172, 173, 174, 175, 176, 177, 178, 179, 180, 181, 182,\n",
       "       183, 184, 185, 186, 187, 188, 189, 190, 191, 192, 193, 194, 195,\n",
       "       196, 197, 198, 199, 200])"
      ]
     },
     "execution_count": 11,
     "metadata": {},
     "output_type": "execute_result"
    }
   ],
   "source": [
    "nums200 = np.arange(1, 201) \n",
    "# array of booleans\n",
    "all_even = nums200 % 2 == 0\n",
    "print(nums200[all_even])\n",
    "nums200"
   ]
  },
  {
   "cell_type": "code",
   "execution_count": 12,
   "metadata": {},
   "outputs": [
    {
     "data": {
      "text/plain": [
       "[46, 43, 51, 21, 34]"
      ]
     },
     "execution_count": 12,
     "metadata": {},
     "output_type": "execute_result"
    }
   ],
   "source": [
    "# get 5 random int values between 18 and 60 in an array\n",
    "ages = np.random.randint(18, 60, 5)\n",
    "# ages # arrray([29, 36, 18, 34, 38])\n",
    "ages_list = ages.tolist()\n",
    "ages_list"
   ]
  },
  {
   "cell_type": "markdown",
   "metadata": {},
   "source": [
    "## Performance\n",
    "\n",
    "- Numpy arrys are 100 times the performance of a python list\n",
    "- Use %%time "
   ]
  },
  {
   "cell_type": "code",
   "execution_count": 13,
   "metadata": {},
   "outputs": [
    {
     "name": "stdout",
     "output_type": "stream",
     "text": [
      "CPU times: total: 0 ns\n",
      "Wall time: 0 ns\n"
     ]
    },
    {
     "data": {
      "text/plain": [
       "[92, 86, 102, 42, 68]"
      ]
     },
     "execution_count": 13,
     "metadata": {},
     "output_type": "execute_result"
    }
   ],
   "source": [
    "# Evaluate performance\n",
    "\n",
    "%time\n",
    "\n",
    "double_ages = [age * 2 for age in ages_list]\n",
    "double_ages"
   ]
  },
  {
   "cell_type": "code",
   "execution_count": 14,
   "metadata": {},
   "outputs": [
    {
     "name": "stdout",
     "output_type": "stream",
     "text": [
      "CPU times: total: 0 ns\n",
      "Wall time: 0 ns\n"
     ]
    },
    {
     "data": {
      "text/plain": [
       "array([ 92,  86, 102,  42,  68])"
      ]
     },
     "execution_count": 14,
     "metadata": {},
     "output_type": "execute_result"
    }
   ],
   "source": [
    "%%time\n",
    "\n",
    "dbl_ages = ages * 2\n",
    "dbl_ages\n",
    "# QUICKER!!!!!!!!!"
   ]
  },
  {
   "cell_type": "markdown",
   "metadata": {},
   "source": [
    "## Statistically oriented (mean, mode, std)\n",
    "\n",
    "- mean -> Average \n",
    "- model -> The most repeated number (most popular)\n",
    "- median -> Middle most number\n",
    "- standard deviation -> Average distance between the mean and numbers"
   ]
  },
  {
   "cell_type": "code",
   "execution_count": 15,
   "metadata": {},
   "outputs": [
    {
     "name": "stdout",
     "output_type": "stream",
     "text": [
      "[96 83 60 81 48 72 75 97 44 43]\n",
      "69.9\n",
      "69.9\n"
     ]
    }
   ],
   "source": [
    "marks = np.random.randint(40, 100, 10)\n",
    "print(marks)\n",
    "print(marks.mean())\n",
    "print(np.mean(marks))"
   ]
  },
  {
   "cell_type": "code",
   "execution_count": 16,
   "metadata": {},
   "outputs": [
    {
     "data": {
      "text/plain": [
       "73.5"
      ]
     },
     "execution_count": 16,
     "metadata": {},
     "output_type": "execute_result"
    }
   ],
   "source": [
    "np.median(marks)"
   ]
  },
  {
   "cell_type": "code",
   "execution_count": 17,
   "metadata": {},
   "outputs": [
    {
     "data": {
      "text/plain": [
       "699"
      ]
     },
     "execution_count": 17,
     "metadata": {},
     "output_type": "execute_result"
    }
   ],
   "source": [
    "np.sum(marks)"
   ]
  },
  {
   "cell_type": "markdown",
   "metadata": {},
   "source": [
    "## Task \n",
    "Investment = R1000\n",
    "Interest rate = 5%\n",
    "At the end of 2 years what will the balance be?\n",
    "1st year = R50 -> R1050\n",
    "2cnd year = R52.5 -> R1102.5"
   ]
  },
  {
   "cell_type": "code",
   "execution_count": 18,
   "metadata": {},
   "outputs": [
    {
     "name": "stdout",
     "output_type": "stream",
     "text": [
      "Yearly changes\n",
      "[1050.0, 1102.5, 1157.625, 1215.5062500000001, 1276.2815625000003, 1340.0956406250004, 1407.1004226562504, 1477.455443789063, 1551.3282159785163, 1628.8946267774422]\n",
      "[1050.         1102.5        1157.625      1215.50625    1276.2815625\n",
      " 1340.09564063 1407.10042266 1477.45544379 1551.32821598 1628.89462678]\n",
      "[1050.0, 1102.5, 1157.63, 1215.51, 1276.28, 1340.1, 1407.1, 1477.46, 1551.33, 1628.89]\n",
      "At the end of 10 years the balance is: R1628.89\n",
      "The difference in % at the end of = 62.89\n"
     ]
    }
   ],
   "source": [
    "list_of_values = []\n",
    "def add_interest(value, years, interest_rate):\n",
    "    for i in range(years):\n",
    "        value = value * (1 + interest_rate)\n",
    "        list_of_values.append(value)\n",
    "        # print(list_of_values)\n",
    "    return list_of_values\n",
    "yearly_amounts = add_interest(1000, 10, 0.05)\n",
    "print(\"Yearly changes\")\n",
    "print(yearly_amounts)\n",
    "\n",
    "years = np.arange(1, 11)\n",
    "# get value with interest applied (compound) per year\n",
    "# final_after_years_result = initial_investment * (1 + interest_rate) ** num_years\n",
    "yearly_return = 1000 * 1.05 ** years\n",
    "yearly_return_round = [round(value, 2) for value in yearly_return]\n",
    "print(yearly_return)\n",
    "print(yearly_return_round)\n",
    "# Can slice an array like a list\n",
    "print(f\"At the end of 10 years the balance is: R{round(yearly_amounts[-1], 2)}\")\n",
    "# calculate change in % = (((final - initial) / initial) * 100)\n",
    "print(f\"The difference in % at the end of = {round(((yearly_amounts[-1] - 1000)/ 1000) * 100, 2)}\")"
   ]
  },
  {
   "cell_type": "markdown",
   "metadata": {},
   "source": [
    "## Useful methods\n",
    "\n",
    "- String methods\n",
    "- unique\n",
    "- max, mix"
   ]
  },
  {
   "cell_type": "code",
   "execution_count": 19,
   "metadata": {},
   "outputs": [
    {
     "name": "stdout",
     "output_type": "stream",
     "text": [
      "[8589 5534 9493 6854 4616 8673 7693 3866 9654 2116]\n"
     ]
    }
   ],
   "source": [
    "salaries = np.random.randint(1_000, 10_000, 10)\n",
    "print(salaries)"
   ]
  },
  {
   "cell_type": "code",
   "execution_count": 20,
   "metadata": {},
   "outputs": [
    {
     "name": "stdout",
     "output_type": "stream",
     "text": [
      "9654 8\n",
      "2116 9\n"
     ]
    }
   ],
   "source": [
    "print(np.max(salaries), np.argmax(salaries))\n",
    "print(np.min(salaries), np.argmin(salaries))\n"
   ]
  },
  {
   "cell_type": "code",
   "execution_count": 21,
   "metadata": {},
   "outputs": [
    {
     "data": {
      "text/plain": [
       "array([2, 1, 1, 1, 1, 1, 3, 1, 1, 3])"
      ]
     },
     "execution_count": 21,
     "metadata": {},
     "output_type": "execute_result"
    }
   ],
   "source": [
    "nums = np.random.randint(1, 4, 10)\n",
    "nums "
   ]
  },
  {
   "cell_type": "code",
   "execution_count": 22,
   "metadata": {},
   "outputs": [
    {
     "data": {
      "text/plain": [
       "array([3, 2, 1])"
      ]
     },
     "execution_count": 22,
     "metadata": {},
     "output_type": "execute_result"
    }
   ],
   "source": [
    "uniq_nums = np.unique(nums)\n",
    "# Good for 1-D array\n",
    "np.unique(uniq_nums)[::-1] \n",
    "# Good for 1-D & multi-dimensional array\n",
    "np.flip(uniq_nums) "
   ]
  },
  {
   "cell_type": "markdown",
   "metadata": {},
   "source": [
    "## Task 1\n",
    "Normalize the Array:\n",
    "\n",
    "- Trim leading and trailing spaces.\n",
    "- Convert all items to lowercase.\n",
    "- Ensure there are no duplicate items in the array."
   ]
  },
  {
   "cell_type": "code",
   "execution_count": 23,
   "metadata": {},
   "outputs": [
    {
     "name": "stdout",
     "output_type": "stream",
     "text": [
      "['apple' 'banana' 'blueberry' 'cucumber' 'grape' 'kiwi' 'lemon' 'mango'\n",
      " 'orange' 'pineapple' 'raspberry' 'tomato']\n"
     ]
    },
    {
     "data": {
      "text/plain": [
       "array(['apple', 'banana', 'blueberry', 'cucumber', 'grape', 'kiwi',\n",
       "       'lemon', 'mango', 'orange', 'pineapple', 'raspberry', 'tomato'],\n",
       "      dtype='<U10')"
      ]
     },
     "execution_count": 23,
     "metadata": {},
     "output_type": "execute_result"
    }
   ],
   "source": [
    "items = np.array([' Apple', 'banana ', 'GRAPE', 'cucumber', 'Pineapple', ' tomato ', 'Orange', ' lemon', 'Kiwi ', 'mango', 'blueberry ', ' raspberry', 'banana '])\n",
    "items_stripped = np.char.strip(items)\n",
    "items_lower = np.char.lower(items_stripped)\n",
    "no_dup = np.unique(items_lower)\n",
    "print(no_dup)\n",
    "# OR\n",
    "# function composition\n",
    "np.unique(np.char.lower(np.char.strip(items)))"
   ]
  },
  {
   "cell_type": "markdown",
   "metadata": {},
   "source": [
    "## Task 2\n",
    "Filtering Operations:\n",
    "\n",
    "a. Find and display all items that start with the letter 'b'.\n",
    "\n",
    "b. Find and display all items that contain the letter 'e' exactly once."
   ]
  },
  {
   "cell_type": "code",
   "execution_count": 24,
   "metadata": {},
   "outputs": [
    {
     "name": "stdout",
     "output_type": "stream",
     "text": [
      "['banana' 'blueberry']\n",
      "apple banana blueberry cucumber grape kiwi lemon mango orange pineapple raspberry tomato\n",
      "['apple banana blueberry cucumber grape kiwi lemon mango orange pineapple raspberry tomato']\n"
     ]
    }
   ],
   "source": [
    "import re\n",
    "items = np.array([' Apple', 'banana ', 'GRAPE', 'cucumber', 'Pineapple', ' tomato ', 'Orange', ' lemon', 'Kiwi ', 'mango', 'blueberry ', ' raspberry', 'banana '])\n",
    "items_stripped = np.char.strip(items)\n",
    "items_lower = np.char.lower(items_stripped)\n",
    "no_dup = np.unique(items_lower)\n",
    "startb = np.char.startswith(no_dup, 'b')\n",
    "print(no_dup[startb])\n",
    "string_np = \" \".join(no_dup.tolist())\n",
    "print(string_np)\n",
    "contain_e =  re.findall(r\".*[ea]{1}.*\", string_np)\n",
    "print(contain_e)\n",
    "\n",
    "# quote1 = \"funny funy funnnny fuzzy\"\n",
    "# print(quote1)\n",
    "# find_be = re.findall(r\"fu[nz]{2}y\", quote1)  # returns a list\n",
    "# print(find_be)\n",
    "# no_dup[contain_e]\n",
    "\n",
    "# contains_e_once = np.char.count(no_dup, 'e') == 1\n",
    "# no_dup[contains_e_once]"
   ]
  },
  {
   "cell_type": "markdown",
   "metadata": {},
   "source": [
    "## Task 3\n",
    "\n",
    "hourly_visitors = [468, 279, 73, 272, 406, 128, 302, 216, 140, 82]\n",
    "\n",
    "- Total visitors in the day?\n",
    "- Which is the peak hour?\n",
    "- On average how many people visit the website per hour"
   ]
  },
  {
   "cell_type": "code",
   "execution_count": 25,
   "metadata": {},
   "outputs": [
    {
     "name": "stdout",
     "output_type": "stream",
     "text": [
      "[468 279  73 272 406 128 302 216 140  82]\n",
      "2366\n",
      "468\n",
      "Average visitors per hour: 236.6\n"
     ]
    }
   ],
   "source": [
    "hourly_visitors = [468, 279, 73, 272, 406, 128, 302, 216, 140, 82]\n",
    "hourly_visitors_np_array = np.array(hourly_visitors)\n",
    "print(hourly_visitors_np_array)\n",
    "# All of these methods below automatically put it into an np array\n",
    "# Total visitors\n",
    "print(np.sum(hourly_visitors))\n",
    "# Peak hour\n",
    "print(np.max(hourly_visitors))\n",
    "# Average visitors per hour\n",
    "print(f\"Average visitors per hour: {np.mean(hourly_visitors)}\")"
   ]
  },
  {
   "cell_type": "code",
   "execution_count": 26,
   "metadata": {},
   "outputs": [
    {
     "data": {
      "text/plain": [
       "(3, 3)"
      ]
     },
     "execution_count": 26,
     "metadata": {},
     "output_type": "execute_result"
    }
   ],
   "source": [
    "num_3D = np.array([[1, 3, 4],\n",
    "                   [6, 10, 77],\n",
    "                   [9, 20, 24]\n",
    "                   ])\n",
    "num_3D.shape"
   ]
  },
  {
   "cell_type": "code",
   "execution_count": 27,
   "metadata": {},
   "outputs": [
    {
     "data": {
      "text/plain": [
       "(9,)"
      ]
     },
     "execution_count": 27,
     "metadata": {},
     "output_type": "execute_result"
    }
   ],
   "source": [
    "nums1 = np.arange(1, 10)\n",
    "nums1.shape"
   ]
  },
  {
   "cell_type": "code",
   "execution_count": 28,
   "metadata": {},
   "outputs": [
    {
     "data": {
      "text/plain": [
       "array([[1, 2, 3],\n",
       "       [4, 5, 6],\n",
       "       [7, 8, 9]])"
      ]
     },
     "execution_count": 28,
     "metadata": {},
     "output_type": "execute_result"
    }
   ],
   "source": [
    "# change 1D to 3D array\n",
    "nums1.reshape(3, 3)"
   ]
  },
  {
   "cell_type": "code",
   "execution_count": 29,
   "metadata": {},
   "outputs": [
    {
     "name": "stdout",
     "output_type": "stream",
     "text": [
      "[[1 2 3]\n",
      " [4 5 6]\n",
      " [7 8 9]]\n"
     ]
    },
    {
     "data": {
      "text/plain": [
       "array([ 6, 15, 24])"
      ]
     },
     "execution_count": 29,
     "metadata": {},
     "output_type": "execute_result"
    }
   ],
   "source": [
    "nums_3x3 = nums1.reshape(3, 3)\n",
    "print(nums_3x3)\n",
    "np.mean(nums_3x3)\n",
    "np.std(nums_3x3)\n",
    "# Adds all numbers together\n",
    "np.sum(nums_3x3)\n",
    "np.sum(nums_3x3, axis =0)\n",
    "np.sum(nums_3x3, axis=1)\n",
    "# same as adding everything together (add all columns then add those sums together)\n",
    "# np.sum(np.sum(nums_3x3, axis=1))"
   ]
  },
  {
   "cell_type": "code",
   "execution_count": 30,
   "metadata": {},
   "outputs": [
    {
     "data": {
      "text/plain": [
       "array([[ 2,  4,  6],\n",
       "       [ 8, 10, 12],\n",
       "       [14, 16, 18]])"
      ]
     },
     "execution_count": 30,
     "metadata": {},
     "output_type": "execute_result"
    }
   ],
   "source": [
    "nums_3x3 - 2\n",
    "nums_3x3 + 2\n",
    "nums_3x3 / 2\n",
    "nums_3x3 * 2"
   ]
  },
  {
   "cell_type": "code",
   "execution_count": 31,
   "metadata": {},
   "outputs": [
    {
     "data": {
      "text/plain": [
       "array([75, 97, 92, 79, 41, 67, 45, 66, 88])"
      ]
     },
     "execution_count": 31,
     "metadata": {},
     "output_type": "execute_result"
    }
   ],
   "source": [
    "stats = np.random.randint(40, 100, 9)\n",
    "stats"
   ]
  },
  {
   "cell_type": "code",
   "execution_count": 32,
   "metadata": {},
   "outputs": [
    {
     "name": "stdout",
     "output_type": "stream",
     "text": [
      "[[75 97 92]\n",
      " [79 41 67]\n",
      " [45 66 88]]\n",
      "[[1 2 3]\n",
      " [4 5 6]\n",
      " [7 8 9]]\n",
      "\n",
      "Results\n",
      "[[76 99 95]\n",
      " [83 46 73]\n",
      " [52 74 97]]\n"
     ]
    }
   ],
   "source": [
    "stats_3x3 = stats.reshape(3,3)\n",
    "print(stats_3x3)\n",
    "print(nums_3x3)\n",
    "# Add 3x3 with 3x3\n",
    "print(\"\\nResults\")\n",
    "print(stats_3x3 + nums_3x3) "
   ]
  },
  {
   "cell_type": "markdown",
   "metadata": {},
   "source": [
    "## Task 1\n",
    "Find the average temperature of every part of the room "
   ]
  },
  {
   "cell_type": "code",
   "execution_count": 33,
   "metadata": {},
   "outputs": [],
   "source": [
    "# Hall,\n",
    "# Room,\n",
    "# Bathroom\n",
    "sensor1 = np.array([[23, 25, 22],\n",
    "                   [20, 21, 20],\n",
    "                   [26, 25, 24]])\n",
    "sensor2 = np.array([[24, 23, 24],\n",
    "                   [22, 22, 23],\n",
    "                   [25, 26, 26]])"
   ]
  },
  {
   "cell_type": "code",
   "execution_count": 34,
   "metadata": {},
   "outputs": [
    {
     "name": "stdout",
     "output_type": "stream",
     "text": [
      "[[23.5 24.  23. ]\n",
      " [21.  21.5 21.5]\n",
      " [25.5 25.5 25. ]]\n"
     ]
    }
   ],
   "source": [
    "# averages_for_rooms = []\n",
    "# # print(len(sensor1))\n",
    "# # print(sensor1[0])\n",
    "# for room in range(len(sensor1)):\n",
    "#     # print(sensor1[room] + sensor2[room])\n",
    "#     for temps in range(len(sensor1[room])):\n",
    "#         # print(sensor1[room][temps])\n",
    "#         averages_for_rooms.append((sensor1[room][temps] + sensor2[room][temps]) / 2)\n",
    "# print(averages_for_rooms)\n",
    "# OR\n",
    "average = (sensor1 + sensor2) / 2\n",
    "print(average)\n"
   ]
  },
  {
   "cell_type": "markdown",
   "metadata": {},
   "source": [
    "## Task 2\n",
    "Find the Average Temp given across a suite by Sensor 1 and Sensor 2 (average of each column)\n",
    "\n",
    "Sensor 1 = [23, 24, 25]\n",
    "Sensor 2 = [27, 28, 29]"
   ]
  },
  {
   "cell_type": "code",
   "execution_count": 36,
   "metadata": {},
   "outputs": [
    {
     "name": "stdout",
     "output_type": "stream",
     "text": [
      "[23.33333333 20.33333333 25.        ]\n",
      "[23.66666667 22.33333333 25.66666667]\n"
     ]
    }
   ],
   "source": [
    "averages1 = np.average(sensor1, axis=1)\n",
    "print(averages1)\n",
    "averages2 = np.average(sensor2, axis=1)\n",
    "print(averages2)"
   ]
  },
  {
   "cell_type": "markdown",
   "metadata": {},
   "source": [
    "## Task 3\n",
    "Combine average temp of Sensor 1 & Sensor 2 per suite"
   ]
  },
  {
   "cell_type": "code",
   "execution_count": 38,
   "metadata": {},
   "outputs": [
    {
     "name": "stdout",
     "output_type": "stream",
     "text": [
      "[23.5        21.33333333 25.33333333]\n"
     ]
    }
   ],
   "source": [
    "print((averages1 + averages2) / 2)"
   ]
  }
 ],
 "metadata": {
  "kernelspec": {
   "display_name": "myenv",
   "language": "python",
   "name": "python3"
  },
  "language_info": {
   "codemirror_mode": {
    "name": "ipython",
    "version": 3
   },
   "file_extension": ".py",
   "mimetype": "text/x-python",
   "name": "python",
   "nbconvert_exporter": "python",
   "pygments_lexer": "ipython3",
   "version": "3.10.8"
  }
 },
 "nbformat": 4,
 "nbformat_minor": 2
}
