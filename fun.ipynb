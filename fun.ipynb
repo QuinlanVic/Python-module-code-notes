{
 "cells": [
  {
   "cell_type": "code",
   "execution_count": 1,
   "metadata": {},
   "outputs": [
    {
     "data": {
      "text/plain": [
       "[2, 4, 5]"
      ]
     },
     "execution_count": 1,
     "metadata": {},
     "output_type": "execute_result"
    }
   ],
   "source": [
    "nums = [2, 4, 5]\n",
    "nums"
   ]
  },
  {
   "cell_type": "code",
   "execution_count": 2,
   "metadata": {},
   "outputs": [
    {
     "data": {
      "text/plain": [
       "[4, 8, 10]"
      ]
     },
     "execution_count": 2,
     "metadata": {},
     "output_type": "execute_result"
    }
   ],
   "source": [
    "dbl = [n*2 for n in nums]\n",
    "dbl"
   ]
  },
  {
   "cell_type": "code",
   "execution_count": 2,
   "metadata": {},
   "outputs": [
    {
     "name": "stdout",
     "output_type": "stream",
     "text": [
      "{'posts': [{'title': 'The Future of AI', 'author': 'Alice', 'published_date': '2024-01-01', 'comments': [{'user': 'Bob', 'comment': 'Great post!', 'date': '2024-01-02'}, {'user': 'Charlie', 'comment': 'Very informative.', 'date': '2024-01-03'}]}, {'title': 'Learning Python', 'author': 'Bob', 'published_date': '2024-02-15', 'comments': [{'user': 'Alice', 'comment': 'Thanks for the tips.', 'date': '2024-02-16'}]}, {'title': 'Web Development Trends', 'author': 'Charlie', 'published_date': '2024-03-01', 'comments': []}]} <class 'dict'>\n"
     ]
    }
   ],
   "source": [
    "import json\n",
    "# Read blog_post.json\n",
    "with open(\"blog_post.json\", \"r\") as file:\n",
    "    # load the file\n",
    "    blog_post_data = json.load(file)\n",
    "    print(blog_post_data, type(blog_post_data))"
   ]
  },
  {
   "cell_type": "code",
   "execution_count": 6,
   "metadata": {},
   "outputs": [
    {
     "name": "stdout",
     "output_type": "stream",
     "text": [
      "Posts summary\n",
      "{'posts_summary': [{'title': 'The Future of AI', 'author': 'Alice', 'number_of_comments': 2}, {'title': 'Learning Python', 'author': 'Bob', 'number_of_comments': 1}, {'title': 'Web Development Trends', 'author': 'Charlie', 'number_of_comments': 0}]}\n"
     ]
    }
   ],
   "source": [
    "# change data to summary of posts\n",
    "print(\"Posts summary\")\n",
    "post_summary = {}\n",
    "post_list = []\n",
    "# for post in blog_post_data[\"posts\"]:\n",
    "#     post_list.append(\n",
    "#         {\n",
    "#             \"title\": post[\"title\"],\n",
    "#             \"author\": post[\"author\"],\n",
    "#             \"number_of_comments\": len(post[\"comments\"]),\n",
    "#         }\n",
    "#     )\n",
    "#     post_summary[\"posts_summary\"] = post_list\n",
    "\n",
    "# list comprehension way\n",
    "post_list = [{\n",
    "            \"title\": post[\"title\"],\n",
    "            \"author\": post[\"author\"],\n",
    "            \"number_of_comments\": len(post[\"comments\"]),\n",
    "        } for post in blog_post_data[\"posts\"]]\n",
    "post_summary[\"posts_summary\"] = post_list\n",
    "print(post_summary)"
   ]
  },
  {
   "cell_type": "code",
   "execution_count": 4,
   "metadata": {},
   "outputs": [],
   "source": [
    "# write a file\n",
    "# write posts_summary.json\n",
    "with open(\"posts_summary.json\", \"w\") as file:\n",
    "    # dump the file as json\n",
    "    json.dump(post_summary, file, indent=4)"
   ]
  }
 ],
 "metadata": {
  "kernelspec": {
   "display_name": "myenv",
   "language": "python",
   "name": "python3"
  },
  "language_info": {
   "codemirror_mode": {
    "name": "ipython",
    "version": 3
   },
   "file_extension": ".py",
   "mimetype": "text/x-python",
   "name": "python",
   "nbconvert_exporter": "python",
   "pygments_lexer": "ipython3",
   "version": "3.10.8"
  }
 },
 "nbformat": 4,
 "nbformat_minor": 2
}
